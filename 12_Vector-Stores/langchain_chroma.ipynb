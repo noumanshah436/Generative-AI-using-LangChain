{
  "cells": [
    {
      "cell_type": "code",
      "execution_count": 59,
      "metadata": {
        "id": "X5k__vrf2uTL"
      },
      "outputs": [
        {
          "name": "stdout",
          "output_type": "stream",
          "text": [
            "API key loaded? True\n"
          ]
        }
      ],
      "source": [
        "from dotenv import load_dotenv\n",
        "import os\n",
        "\n",
        "load_dotenv()\n",
        "print(\"API key loaded?\", os.getenv(\"OPENAI_API_KEY\") is not None)\n"
      ]
    },
    {
      "cell_type": "code",
      "execution_count": 60,
      "metadata": {
        "colab": {
          "base_uri": "https://localhost:8080/"
        },
        "id": "KFmB4r2CZmzI",
        "outputId": "76657856-bdc6-4152-b8d5-308be4d612dd"
      },
      "outputs": [
        {
          "name": "stdout",
          "output_type": "stream",
          "text": [
            "Requirement already satisfied: langchain in /home/dev/Generative AI using LangChain/venv/lib/python3.12/site-packages (0.3.27)\n",
            "Requirement already satisfied: chromadb in /home/dev/Generative AI using LangChain/venv/lib/python3.12/site-packages (1.0.20)\n",
            "Requirement already satisfied: openai in /home/dev/Generative AI using LangChain/venv/lib/python3.12/site-packages (1.99.9)\n",
            "Requirement already satisfied: tiktoken in /home/dev/Generative AI using LangChain/venv/lib/python3.12/site-packages (0.11.0)\n",
            "Requirement already satisfied: pypdf in /home/dev/Generative AI using LangChain/venv/lib/python3.12/site-packages (6.0.0)\n",
            "Requirement already satisfied: langchain_openai in /home/dev/Generative AI using LangChain/venv/lib/python3.12/site-packages (0.3.30)\n",
            "Requirement already satisfied: langchain-community in /home/dev/Generative AI using LangChain/venv/lib/python3.12/site-packages (0.3.27)\n",
            "Requirement already satisfied: langchain-core<1.0.0,>=0.3.72 in /home/dev/Generative AI using LangChain/venv/lib/python3.12/site-packages (from langchain) (0.3.74)\n",
            "Requirement already satisfied: langchain-text-splitters<1.0.0,>=0.3.9 in /home/dev/Generative AI using LangChain/venv/lib/python3.12/site-packages (from langchain) (0.3.9)\n",
            "Requirement already satisfied: langsmith>=0.1.17 in /home/dev/Generative AI using LangChain/venv/lib/python3.12/site-packages (from langchain) (0.4.14)\n",
            "Requirement already satisfied: pydantic<3.0.0,>=2.7.4 in /home/dev/Generative AI using LangChain/venv/lib/python3.12/site-packages (from langchain) (2.11.7)\n",
            "Requirement already satisfied: SQLAlchemy<3,>=1.4 in /home/dev/Generative AI using LangChain/venv/lib/python3.12/site-packages (from langchain) (2.0.43)\n",
            "Requirement already satisfied: requests<3,>=2 in /home/dev/Generative AI using LangChain/venv/lib/python3.12/site-packages (from langchain) (2.32.4)\n",
            "Requirement already satisfied: PyYAML>=5.3 in /home/dev/Generative AI using LangChain/venv/lib/python3.12/site-packages (from langchain) (6.0.2)\n",
            "Requirement already satisfied: build>=1.0.3 in /home/dev/Generative AI using LangChain/venv/lib/python3.12/site-packages (from chromadb) (1.3.0)\n",
            "Requirement already satisfied: pybase64>=1.4.1 in /home/dev/Generative AI using LangChain/venv/lib/python3.12/site-packages (from chromadb) (1.4.2)\n",
            "Requirement already satisfied: uvicorn>=0.18.3 in /home/dev/Generative AI using LangChain/venv/lib/python3.12/site-packages (from uvicorn[standard]>=0.18.3->chromadb) (0.35.0)\n",
            "Requirement already satisfied: numpy>=1.22.5 in /home/dev/Generative AI using LangChain/venv/lib/python3.12/site-packages (from chromadb) (2.3.2)\n",
            "Requirement already satisfied: posthog<6.0.0,>=2.4.0 in /home/dev/Generative AI using LangChain/venv/lib/python3.12/site-packages (from chromadb) (5.4.0)\n",
            "Requirement already satisfied: typing-extensions>=4.5.0 in /home/dev/Generative AI using LangChain/venv/lib/python3.12/site-packages (from chromadb) (4.14.1)\n",
            "Requirement already satisfied: onnxruntime>=1.14.1 in /home/dev/Generative AI using LangChain/venv/lib/python3.12/site-packages (from chromadb) (1.22.1)\n",
            "Requirement already satisfied: opentelemetry-api>=1.2.0 in /home/dev/Generative AI using LangChain/venv/lib/python3.12/site-packages (from chromadb) (1.36.0)\n",
            "Requirement already satisfied: opentelemetry-exporter-otlp-proto-grpc>=1.2.0 in /home/dev/Generative AI using LangChain/venv/lib/python3.12/site-packages (from chromadb) (1.36.0)\n",
            "Requirement already satisfied: opentelemetry-sdk>=1.2.0 in /home/dev/Generative AI using LangChain/venv/lib/python3.12/site-packages (from chromadb) (1.36.0)\n",
            "Requirement already satisfied: tokenizers>=0.13.2 in /home/dev/Generative AI using LangChain/venv/lib/python3.12/site-packages (from chromadb) (0.21.4)\n",
            "Requirement already satisfied: pypika>=0.48.9 in /home/dev/Generative AI using LangChain/venv/lib/python3.12/site-packages (from chromadb) (0.48.9)\n",
            "Requirement already satisfied: tqdm>=4.65.0 in /home/dev/Generative AI using LangChain/venv/lib/python3.12/site-packages (from chromadb) (4.67.1)\n",
            "Requirement already satisfied: overrides>=7.3.1 in /home/dev/Generative AI using LangChain/venv/lib/python3.12/site-packages (from chromadb) (7.7.0)\n",
            "Requirement already satisfied: importlib-resources in /home/dev/Generative AI using LangChain/venv/lib/python3.12/site-packages (from chromadb) (6.5.2)\n",
            "Requirement already satisfied: grpcio>=1.58.0 in /home/dev/Generative AI using LangChain/venv/lib/python3.12/site-packages (from chromadb) (1.74.0)\n",
            "Requirement already satisfied: bcrypt>=4.0.1 in /home/dev/Generative AI using LangChain/venv/lib/python3.12/site-packages (from chromadb) (4.3.0)\n",
            "Requirement already satisfied: typer>=0.9.0 in /home/dev/Generative AI using LangChain/venv/lib/python3.12/site-packages (from chromadb) (0.16.1)\n",
            "Requirement already satisfied: kubernetes>=28.1.0 in /home/dev/Generative AI using LangChain/venv/lib/python3.12/site-packages (from chromadb) (33.1.0)\n",
            "Requirement already satisfied: tenacity>=8.2.3 in /home/dev/Generative AI using LangChain/venv/lib/python3.12/site-packages (from chromadb) (9.1.2)\n",
            "Requirement already satisfied: mmh3>=4.0.1 in /home/dev/Generative AI using LangChain/venv/lib/python3.12/site-packages (from chromadb) (5.2.0)\n",
            "Requirement already satisfied: orjson>=3.9.12 in /home/dev/Generative AI using LangChain/venv/lib/python3.12/site-packages (from chromadb) (3.11.2)\n",
            "Requirement already satisfied: httpx>=0.27.0 in /home/dev/Generative AI using LangChain/venv/lib/python3.12/site-packages (from chromadb) (0.28.1)\n",
            "Requirement already satisfied: rich>=10.11.0 in /home/dev/Generative AI using LangChain/venv/lib/python3.12/site-packages (from chromadb) (14.1.0)\n",
            "Requirement already satisfied: jsonschema>=4.19.0 in /home/dev/Generative AI using LangChain/venv/lib/python3.12/site-packages (from chromadb) (4.25.1)\n",
            "Requirement already satisfied: anyio<5,>=3.5.0 in /home/dev/Generative AI using LangChain/venv/lib/python3.12/site-packages (from openai) (4.10.0)\n",
            "Requirement already satisfied: distro<2,>=1.7.0 in /home/dev/Generative AI using LangChain/venv/lib/python3.12/site-packages (from openai) (1.9.0)\n",
            "Requirement already satisfied: jiter<1,>=0.4.0 in /home/dev/Generative AI using LangChain/venv/lib/python3.12/site-packages (from openai) (0.10.0)\n",
            "Requirement already satisfied: sniffio in /home/dev/Generative AI using LangChain/venv/lib/python3.12/site-packages (from openai) (1.3.1)\n",
            "Requirement already satisfied: regex>=2022.1.18 in /home/dev/Generative AI using LangChain/venv/lib/python3.12/site-packages (from tiktoken) (2025.7.34)\n",
            "Requirement already satisfied: aiohttp<4.0.0,>=3.8.3 in /home/dev/Generative AI using LangChain/venv/lib/python3.12/site-packages (from langchain-community) (3.12.15)\n",
            "Requirement already satisfied: dataclasses-json<0.7,>=0.5.7 in /home/dev/Generative AI using LangChain/venv/lib/python3.12/site-packages (from langchain-community) (0.6.7)\n",
            "Requirement already satisfied: pydantic-settings<3.0.0,>=2.4.0 in /home/dev/Generative AI using LangChain/venv/lib/python3.12/site-packages (from langchain-community) (2.10.1)\n",
            "Requirement already satisfied: httpx-sse<1.0.0,>=0.4.0 in /home/dev/Generative AI using LangChain/venv/lib/python3.12/site-packages (from langchain-community) (0.4.1)\n",
            "Requirement already satisfied: aiohappyeyeballs>=2.5.0 in /home/dev/Generative AI using LangChain/venv/lib/python3.12/site-packages (from aiohttp<4.0.0,>=3.8.3->langchain-community) (2.6.1)\n",
            "Requirement already satisfied: aiosignal>=1.4.0 in /home/dev/Generative AI using LangChain/venv/lib/python3.12/site-packages (from aiohttp<4.0.0,>=3.8.3->langchain-community) (1.4.0)\n",
            "Requirement already satisfied: attrs>=17.3.0 in /home/dev/Generative AI using LangChain/venv/lib/python3.12/site-packages (from aiohttp<4.0.0,>=3.8.3->langchain-community) (25.3.0)\n",
            "Requirement already satisfied: frozenlist>=1.1.1 in /home/dev/Generative AI using LangChain/venv/lib/python3.12/site-packages (from aiohttp<4.0.0,>=3.8.3->langchain-community) (1.7.0)\n",
            "Requirement already satisfied: multidict<7.0,>=4.5 in /home/dev/Generative AI using LangChain/venv/lib/python3.12/site-packages (from aiohttp<4.0.0,>=3.8.3->langchain-community) (6.6.4)\n",
            "Requirement already satisfied: propcache>=0.2.0 in /home/dev/Generative AI using LangChain/venv/lib/python3.12/site-packages (from aiohttp<4.0.0,>=3.8.3->langchain-community) (0.3.2)\n",
            "Requirement already satisfied: yarl<2.0,>=1.17.0 in /home/dev/Generative AI using LangChain/venv/lib/python3.12/site-packages (from aiohttp<4.0.0,>=3.8.3->langchain-community) (1.20.1)\n",
            "Requirement already satisfied: idna>=2.8 in /home/dev/Generative AI using LangChain/venv/lib/python3.12/site-packages (from anyio<5,>=3.5.0->openai) (3.10)\n",
            "Requirement already satisfied: packaging>=19.1 in /home/dev/Generative AI using LangChain/venv/lib/python3.12/site-packages (from build>=1.0.3->chromadb) (25.0)\n",
            "Requirement already satisfied: pyproject_hooks in /home/dev/Generative AI using LangChain/venv/lib/python3.12/site-packages (from build>=1.0.3->chromadb) (1.2.0)\n",
            "Requirement already satisfied: marshmallow<4.0.0,>=3.18.0 in /home/dev/Generative AI using LangChain/venv/lib/python3.12/site-packages (from dataclasses-json<0.7,>=0.5.7->langchain-community) (3.26.1)\n",
            "Requirement already satisfied: typing-inspect<1,>=0.4.0 in /home/dev/Generative AI using LangChain/venv/lib/python3.12/site-packages (from dataclasses-json<0.7,>=0.5.7->langchain-community) (0.9.0)\n",
            "Requirement already satisfied: certifi in /home/dev/Generative AI using LangChain/venv/lib/python3.12/site-packages (from httpx>=0.27.0->chromadb) (2025.8.3)\n",
            "Requirement already satisfied: httpcore==1.* in /home/dev/Generative AI using LangChain/venv/lib/python3.12/site-packages (from httpx>=0.27.0->chromadb) (1.0.9)\n",
            "Requirement already satisfied: h11>=0.16 in /home/dev/Generative AI using LangChain/venv/lib/python3.12/site-packages (from httpcore==1.*->httpx>=0.27.0->chromadb) (0.16.0)\n",
            "Requirement already satisfied: jsonschema-specifications>=2023.03.6 in /home/dev/Generative AI using LangChain/venv/lib/python3.12/site-packages (from jsonschema>=4.19.0->chromadb) (2025.4.1)\n",
            "Requirement already satisfied: referencing>=0.28.4 in /home/dev/Generative AI using LangChain/venv/lib/python3.12/site-packages (from jsonschema>=4.19.0->chromadb) (0.36.2)\n",
            "Requirement already satisfied: rpds-py>=0.7.1 in /home/dev/Generative AI using LangChain/venv/lib/python3.12/site-packages (from jsonschema>=4.19.0->chromadb) (0.27.1)\n",
            "Requirement already satisfied: six>=1.9.0 in /home/dev/Generative AI using LangChain/venv/lib/python3.12/site-packages (from kubernetes>=28.1.0->chromadb) (1.17.0)\n",
            "Requirement already satisfied: python-dateutil>=2.5.3 in /home/dev/Generative AI using LangChain/venv/lib/python3.12/site-packages (from kubernetes>=28.1.0->chromadb) (2.9.0.post0)\n",
            "Requirement already satisfied: google-auth>=1.0.1 in /home/dev/Generative AI using LangChain/venv/lib/python3.12/site-packages (from kubernetes>=28.1.0->chromadb) (2.40.3)\n",
            "Requirement already satisfied: websocket-client!=0.40.0,!=0.41.*,!=0.42.*,>=0.32.0 in /home/dev/Generative AI using LangChain/venv/lib/python3.12/site-packages (from kubernetes>=28.1.0->chromadb) (1.8.0)\n",
            "Requirement already satisfied: requests-oauthlib in /home/dev/Generative AI using LangChain/venv/lib/python3.12/site-packages (from kubernetes>=28.1.0->chromadb) (2.0.0)\n",
            "Requirement already satisfied: oauthlib>=3.2.2 in /home/dev/Generative AI using LangChain/venv/lib/python3.12/site-packages (from kubernetes>=28.1.0->chromadb) (3.3.1)\n",
            "Requirement already satisfied: urllib3>=1.24.2 in /home/dev/Generative AI using LangChain/venv/lib/python3.12/site-packages (from kubernetes>=28.1.0->chromadb) (2.5.0)\n",
            "Requirement already satisfied: durationpy>=0.7 in /home/dev/Generative AI using LangChain/venv/lib/python3.12/site-packages (from kubernetes>=28.1.0->chromadb) (0.10)\n",
            "Requirement already satisfied: jsonpatch<2.0,>=1.33 in /home/dev/Generative AI using LangChain/venv/lib/python3.12/site-packages (from langchain-core<1.0.0,>=0.3.72->langchain) (1.33)\n",
            "Requirement already satisfied: requests-toolbelt>=1.0.0 in /home/dev/Generative AI using LangChain/venv/lib/python3.12/site-packages (from langsmith>=0.1.17->langchain) (1.0.0)\n",
            "Requirement already satisfied: zstandard>=0.23.0 in /home/dev/Generative AI using LangChain/venv/lib/python3.12/site-packages (from langsmith>=0.1.17->langchain) (0.23.0)\n",
            "Requirement already satisfied: coloredlogs in /home/dev/Generative AI using LangChain/venv/lib/python3.12/site-packages (from onnxruntime>=1.14.1->chromadb) (15.0.1)\n",
            "Requirement already satisfied: flatbuffers in /home/dev/Generative AI using LangChain/venv/lib/python3.12/site-packages (from onnxruntime>=1.14.1->chromadb) (25.2.10)\n",
            "Requirement already satisfied: protobuf in /home/dev/Generative AI using LangChain/venv/lib/python3.12/site-packages (from onnxruntime>=1.14.1->chromadb) (5.29.5)\n",
            "Requirement already satisfied: sympy in /home/dev/Generative AI using LangChain/venv/lib/python3.12/site-packages (from onnxruntime>=1.14.1->chromadb) (1.14.0)\n",
            "Requirement already satisfied: importlib-metadata<8.8.0,>=6.0 in /home/dev/Generative AI using LangChain/venv/lib/python3.12/site-packages (from opentelemetry-api>=1.2.0->chromadb) (8.7.0)\n",
            "Requirement already satisfied: googleapis-common-protos~=1.57 in /home/dev/Generative AI using LangChain/venv/lib/python3.12/site-packages (from opentelemetry-exporter-otlp-proto-grpc>=1.2.0->chromadb) (1.70.0)\n",
            "Requirement already satisfied: opentelemetry-exporter-otlp-proto-common==1.36.0 in /home/dev/Generative AI using LangChain/venv/lib/python3.12/site-packages (from opentelemetry-exporter-otlp-proto-grpc>=1.2.0->chromadb) (1.36.0)\n",
            "Requirement already satisfied: opentelemetry-proto==1.36.0 in /home/dev/Generative AI using LangChain/venv/lib/python3.12/site-packages (from opentelemetry-exporter-otlp-proto-grpc>=1.2.0->chromadb) (1.36.0)\n",
            "Requirement already satisfied: opentelemetry-semantic-conventions==0.57b0 in /home/dev/Generative AI using LangChain/venv/lib/python3.12/site-packages (from opentelemetry-sdk>=1.2.0->chromadb) (0.57b0)\n",
            "Requirement already satisfied: backoff>=1.10.0 in /home/dev/Generative AI using LangChain/venv/lib/python3.12/site-packages (from posthog<6.0.0,>=2.4.0->chromadb) (2.2.1)\n",
            "Requirement already satisfied: annotated-types>=0.6.0 in /home/dev/Generative AI using LangChain/venv/lib/python3.12/site-packages (from pydantic<3.0.0,>=2.7.4->langchain) (0.7.0)\n",
            "Requirement already satisfied: pydantic-core==2.33.2 in /home/dev/Generative AI using LangChain/venv/lib/python3.12/site-packages (from pydantic<3.0.0,>=2.7.4->langchain) (2.33.2)\n",
            "Requirement already satisfied: typing-inspection>=0.4.0 in /home/dev/Generative AI using LangChain/venv/lib/python3.12/site-packages (from pydantic<3.0.0,>=2.7.4->langchain) (0.4.1)\n",
            "Requirement already satisfied: python-dotenv>=0.21.0 in /home/dev/Generative AI using LangChain/venv/lib/python3.12/site-packages (from pydantic-settings<3.0.0,>=2.4.0->langchain-community) (1.1.1)\n",
            "Requirement already satisfied: charset_normalizer<4,>=2 in /home/dev/Generative AI using LangChain/venv/lib/python3.12/site-packages (from requests<3,>=2->langchain) (3.4.3)\n",
            "Requirement already satisfied: markdown-it-py>=2.2.0 in /home/dev/Generative AI using LangChain/venv/lib/python3.12/site-packages (from rich>=10.11.0->chromadb) (4.0.0)\n",
            "Requirement already satisfied: pygments<3.0.0,>=2.13.0 in /home/dev/Generative AI using LangChain/venv/lib/python3.12/site-packages (from rich>=10.11.0->chromadb) (2.19.2)\n",
            "Requirement already satisfied: greenlet>=1 in /home/dev/Generative AI using LangChain/venv/lib/python3.12/site-packages (from SQLAlchemy<3,>=1.4->langchain) (3.2.4)\n",
            "Requirement already satisfied: huggingface-hub<1.0,>=0.16.4 in /home/dev/Generative AI using LangChain/venv/lib/python3.12/site-packages (from tokenizers>=0.13.2->chromadb) (0.34.4)\n",
            "Requirement already satisfied: click>=8.0.0 in /home/dev/Generative AI using LangChain/venv/lib/python3.12/site-packages (from typer>=0.9.0->chromadb) (8.2.1)\n",
            "Requirement already satisfied: shellingham>=1.3.0 in /home/dev/Generative AI using LangChain/venv/lib/python3.12/site-packages (from typer>=0.9.0->chromadb) (1.5.4)\n",
            "Requirement already satisfied: httptools>=0.6.3 in /home/dev/Generative AI using LangChain/venv/lib/python3.12/site-packages (from uvicorn[standard]>=0.18.3->chromadb) (0.6.4)\n",
            "Requirement already satisfied: uvloop>=0.15.1 in /home/dev/Generative AI using LangChain/venv/lib/python3.12/site-packages (from uvicorn[standard]>=0.18.3->chromadb) (0.21.0)\n",
            "Requirement already satisfied: watchfiles>=0.13 in /home/dev/Generative AI using LangChain/venv/lib/python3.12/site-packages (from uvicorn[standard]>=0.18.3->chromadb) (1.1.0)\n",
            "Requirement already satisfied: websockets>=10.4 in /home/dev/Generative AI using LangChain/venv/lib/python3.12/site-packages (from uvicorn[standard]>=0.18.3->chromadb) (15.0.1)\n",
            "Requirement already satisfied: cachetools<6.0,>=2.0.0 in /home/dev/Generative AI using LangChain/venv/lib/python3.12/site-packages (from google-auth>=1.0.1->kubernetes>=28.1.0->chromadb) (5.5.2)\n",
            "Requirement already satisfied: pyasn1-modules>=0.2.1 in /home/dev/Generative AI using LangChain/venv/lib/python3.12/site-packages (from google-auth>=1.0.1->kubernetes>=28.1.0->chromadb) (0.4.2)\n",
            "Requirement already satisfied: rsa<5,>=3.1.4 in /home/dev/Generative AI using LangChain/venv/lib/python3.12/site-packages (from google-auth>=1.0.1->kubernetes>=28.1.0->chromadb) (4.9.1)\n",
            "Requirement already satisfied: filelock in /home/dev/Generative AI using LangChain/venv/lib/python3.12/site-packages (from huggingface-hub<1.0,>=0.16.4->tokenizers>=0.13.2->chromadb) (3.19.1)\n",
            "Requirement already satisfied: fsspec>=2023.5.0 in /home/dev/Generative AI using LangChain/venv/lib/python3.12/site-packages (from huggingface-hub<1.0,>=0.16.4->tokenizers>=0.13.2->chromadb) (2025.7.0)\n",
            "Requirement already satisfied: hf-xet<2.0.0,>=1.1.3 in /home/dev/Generative AI using LangChain/venv/lib/python3.12/site-packages (from huggingface-hub<1.0,>=0.16.4->tokenizers>=0.13.2->chromadb) (1.1.7)\n",
            "Requirement already satisfied: zipp>=3.20 in /home/dev/Generative AI using LangChain/venv/lib/python3.12/site-packages (from importlib-metadata<8.8.0,>=6.0->opentelemetry-api>=1.2.0->chromadb) (3.23.0)\n",
            "Requirement already satisfied: jsonpointer>=1.9 in /home/dev/Generative AI using LangChain/venv/lib/python3.12/site-packages (from jsonpatch<2.0,>=1.33->langchain-core<1.0.0,>=0.3.72->langchain) (3.0.0)\n",
            "Requirement already satisfied: mdurl~=0.1 in /home/dev/Generative AI using LangChain/venv/lib/python3.12/site-packages (from markdown-it-py>=2.2.0->rich>=10.11.0->chromadb) (0.1.2)\n",
            "Requirement already satisfied: mypy-extensions>=0.3.0 in /home/dev/Generative AI using LangChain/venv/lib/python3.12/site-packages (from typing-inspect<1,>=0.4.0->dataclasses-json<0.7,>=0.5.7->langchain-community) (1.1.0)\n",
            "Requirement already satisfied: humanfriendly>=9.1 in /home/dev/Generative AI using LangChain/venv/lib/python3.12/site-packages (from coloredlogs->onnxruntime>=1.14.1->chromadb) (10.0)\n",
            "Requirement already satisfied: mpmath<1.4,>=1.1.0 in /home/dev/Generative AI using LangChain/venv/lib/python3.12/site-packages (from sympy->onnxruntime>=1.14.1->chromadb) (1.3.0)\n",
            "Requirement already satisfied: pyasn1<0.7.0,>=0.6.1 in /home/dev/Generative AI using LangChain/venv/lib/python3.12/site-packages (from pyasn1-modules>=0.2.1->google-auth>=1.0.1->kubernetes>=28.1.0->chromadb) (0.6.1)\n",
            "\n",
            "\u001b[1m[\u001b[0m\u001b[34;49mnotice\u001b[0m\u001b[1;39;49m]\u001b[0m\u001b[39;49m A new release of pip is available: \u001b[0m\u001b[31;49m24.0\u001b[0m\u001b[39;49m -> \u001b[0m\u001b[32;49m25.2\u001b[0m\n",
            "\u001b[1m[\u001b[0m\u001b[34;49mnotice\u001b[0m\u001b[1;39;49m]\u001b[0m\u001b[39;49m To update, run: \u001b[0m\u001b[32;49mpip install --upgrade pip\u001b[0m\n",
            "Requirement already satisfied: langchain-chroma in /home/dev/Generative AI using LangChain/venv/lib/python3.12/site-packages (0.2.5)\n",
            "Requirement already satisfied: langchain-core>=0.3.70 in /home/dev/Generative AI using LangChain/venv/lib/python3.12/site-packages (from langchain-chroma) (0.3.74)\n",
            "Requirement already satisfied: numpy>=1.26.0 in /home/dev/Generative AI using LangChain/venv/lib/python3.12/site-packages (from langchain-chroma) (2.3.2)\n",
            "Requirement already satisfied: chromadb>=1.0.9 in /home/dev/Generative AI using LangChain/venv/lib/python3.12/site-packages (from langchain-chroma) (1.0.20)\n",
            "Requirement already satisfied: build>=1.0.3 in /home/dev/Generative AI using LangChain/venv/lib/python3.12/site-packages (from chromadb>=1.0.9->langchain-chroma) (1.3.0)\n",
            "Requirement already satisfied: pydantic>=1.9 in /home/dev/Generative AI using LangChain/venv/lib/python3.12/site-packages (from chromadb>=1.0.9->langchain-chroma) (2.11.7)\n",
            "Requirement already satisfied: pybase64>=1.4.1 in /home/dev/Generative AI using LangChain/venv/lib/python3.12/site-packages (from chromadb>=1.0.9->langchain-chroma) (1.4.2)\n",
            "Requirement already satisfied: uvicorn>=0.18.3 in /home/dev/Generative AI using LangChain/venv/lib/python3.12/site-packages (from uvicorn[standard]>=0.18.3->chromadb>=1.0.9->langchain-chroma) (0.35.0)\n",
            "Requirement already satisfied: posthog<6.0.0,>=2.4.0 in /home/dev/Generative AI using LangChain/venv/lib/python3.12/site-packages (from chromadb>=1.0.9->langchain-chroma) (5.4.0)\n",
            "Requirement already satisfied: typing-extensions>=4.5.0 in /home/dev/Generative AI using LangChain/venv/lib/python3.12/site-packages (from chromadb>=1.0.9->langchain-chroma) (4.14.1)\n",
            "Requirement already satisfied: onnxruntime>=1.14.1 in /home/dev/Generative AI using LangChain/venv/lib/python3.12/site-packages (from chromadb>=1.0.9->langchain-chroma) (1.22.1)\n",
            "Requirement already satisfied: opentelemetry-api>=1.2.0 in /home/dev/Generative AI using LangChain/venv/lib/python3.12/site-packages (from chromadb>=1.0.9->langchain-chroma) (1.36.0)\n",
            "Requirement already satisfied: opentelemetry-exporter-otlp-proto-grpc>=1.2.0 in /home/dev/Generative AI using LangChain/venv/lib/python3.12/site-packages (from chromadb>=1.0.9->langchain-chroma) (1.36.0)\n",
            "Requirement already satisfied: opentelemetry-sdk>=1.2.0 in /home/dev/Generative AI using LangChain/venv/lib/python3.12/site-packages (from chromadb>=1.0.9->langchain-chroma) (1.36.0)\n",
            "Requirement already satisfied: tokenizers>=0.13.2 in /home/dev/Generative AI using LangChain/venv/lib/python3.12/site-packages (from chromadb>=1.0.9->langchain-chroma) (0.21.4)\n",
            "Requirement already satisfied: pypika>=0.48.9 in /home/dev/Generative AI using LangChain/venv/lib/python3.12/site-packages (from chromadb>=1.0.9->langchain-chroma) (0.48.9)\n",
            "Requirement already satisfied: tqdm>=4.65.0 in /home/dev/Generative AI using LangChain/venv/lib/python3.12/site-packages (from chromadb>=1.0.9->langchain-chroma) (4.67.1)\n",
            "Requirement already satisfied: overrides>=7.3.1 in /home/dev/Generative AI using LangChain/venv/lib/python3.12/site-packages (from chromadb>=1.0.9->langchain-chroma) (7.7.0)\n",
            "Requirement already satisfied: importlib-resources in /home/dev/Generative AI using LangChain/venv/lib/python3.12/site-packages (from chromadb>=1.0.9->langchain-chroma) (6.5.2)\n",
            "Requirement already satisfied: grpcio>=1.58.0 in /home/dev/Generative AI using LangChain/venv/lib/python3.12/site-packages (from chromadb>=1.0.9->langchain-chroma) (1.74.0)\n",
            "Requirement already satisfied: bcrypt>=4.0.1 in /home/dev/Generative AI using LangChain/venv/lib/python3.12/site-packages (from chromadb>=1.0.9->langchain-chroma) (4.3.0)\n",
            "Requirement already satisfied: typer>=0.9.0 in /home/dev/Generative AI using LangChain/venv/lib/python3.12/site-packages (from chromadb>=1.0.9->langchain-chroma) (0.16.1)\n",
            "Requirement already satisfied: kubernetes>=28.1.0 in /home/dev/Generative AI using LangChain/venv/lib/python3.12/site-packages (from chromadb>=1.0.9->langchain-chroma) (33.1.0)\n",
            "Requirement already satisfied: tenacity>=8.2.3 in /home/dev/Generative AI using LangChain/venv/lib/python3.12/site-packages (from chromadb>=1.0.9->langchain-chroma) (9.1.2)\n",
            "Requirement already satisfied: pyyaml>=6.0.0 in /home/dev/Generative AI using LangChain/venv/lib/python3.12/site-packages (from chromadb>=1.0.9->langchain-chroma) (6.0.2)\n",
            "Requirement already satisfied: mmh3>=4.0.1 in /home/dev/Generative AI using LangChain/venv/lib/python3.12/site-packages (from chromadb>=1.0.9->langchain-chroma) (5.2.0)\n",
            "Requirement already satisfied: orjson>=3.9.12 in /home/dev/Generative AI using LangChain/venv/lib/python3.12/site-packages (from chromadb>=1.0.9->langchain-chroma) (3.11.2)\n",
            "Requirement already satisfied: httpx>=0.27.0 in /home/dev/Generative AI using LangChain/venv/lib/python3.12/site-packages (from chromadb>=1.0.9->langchain-chroma) (0.28.1)\n",
            "Requirement already satisfied: rich>=10.11.0 in /home/dev/Generative AI using LangChain/venv/lib/python3.12/site-packages (from chromadb>=1.0.9->langchain-chroma) (14.1.0)\n",
            "Requirement already satisfied: jsonschema>=4.19.0 in /home/dev/Generative AI using LangChain/venv/lib/python3.12/site-packages (from chromadb>=1.0.9->langchain-chroma) (4.25.1)\n",
            "Requirement already satisfied: langsmith>=0.3.45 in /home/dev/Generative AI using LangChain/venv/lib/python3.12/site-packages (from langchain-core>=0.3.70->langchain-chroma) (0.4.14)\n",
            "Requirement already satisfied: jsonpatch<2.0,>=1.33 in /home/dev/Generative AI using LangChain/venv/lib/python3.12/site-packages (from langchain-core>=0.3.70->langchain-chroma) (1.33)\n",
            "Requirement already satisfied: packaging>=23.2 in /home/dev/Generative AI using LangChain/venv/lib/python3.12/site-packages (from langchain-core>=0.3.70->langchain-chroma) (25.0)\n",
            "Requirement already satisfied: pyproject_hooks in /home/dev/Generative AI using LangChain/venv/lib/python3.12/site-packages (from build>=1.0.3->chromadb>=1.0.9->langchain-chroma) (1.2.0)\n",
            "Requirement already satisfied: anyio in /home/dev/Generative AI using LangChain/venv/lib/python3.12/site-packages (from httpx>=0.27.0->chromadb>=1.0.9->langchain-chroma) (4.10.0)\n",
            "Requirement already satisfied: certifi in /home/dev/Generative AI using LangChain/venv/lib/python3.12/site-packages (from httpx>=0.27.0->chromadb>=1.0.9->langchain-chroma) (2025.8.3)\n",
            "Requirement already satisfied: httpcore==1.* in /home/dev/Generative AI using LangChain/venv/lib/python3.12/site-packages (from httpx>=0.27.0->chromadb>=1.0.9->langchain-chroma) (1.0.9)\n",
            "Requirement already satisfied: idna in /home/dev/Generative AI using LangChain/venv/lib/python3.12/site-packages (from httpx>=0.27.0->chromadb>=1.0.9->langchain-chroma) (3.10)\n",
            "Requirement already satisfied: h11>=0.16 in /home/dev/Generative AI using LangChain/venv/lib/python3.12/site-packages (from httpcore==1.*->httpx>=0.27.0->chromadb>=1.0.9->langchain-chroma) (0.16.0)\n",
            "Requirement already satisfied: jsonpointer>=1.9 in /home/dev/Generative AI using LangChain/venv/lib/python3.12/site-packages (from jsonpatch<2.0,>=1.33->langchain-core>=0.3.70->langchain-chroma) (3.0.0)\n",
            "Requirement already satisfied: attrs>=22.2.0 in /home/dev/Generative AI using LangChain/venv/lib/python3.12/site-packages (from jsonschema>=4.19.0->chromadb>=1.0.9->langchain-chroma) (25.3.0)\n",
            "Requirement already satisfied: jsonschema-specifications>=2023.03.6 in /home/dev/Generative AI using LangChain/venv/lib/python3.12/site-packages (from jsonschema>=4.19.0->chromadb>=1.0.9->langchain-chroma) (2025.4.1)\n",
            "Requirement already satisfied: referencing>=0.28.4 in /home/dev/Generative AI using LangChain/venv/lib/python3.12/site-packages (from jsonschema>=4.19.0->chromadb>=1.0.9->langchain-chroma) (0.36.2)\n",
            "Requirement already satisfied: rpds-py>=0.7.1 in /home/dev/Generative AI using LangChain/venv/lib/python3.12/site-packages (from jsonschema>=4.19.0->chromadb>=1.0.9->langchain-chroma) (0.27.1)\n",
            "Requirement already satisfied: six>=1.9.0 in /home/dev/Generative AI using LangChain/venv/lib/python3.12/site-packages (from kubernetes>=28.1.0->chromadb>=1.0.9->langchain-chroma) (1.17.0)\n",
            "Requirement already satisfied: python-dateutil>=2.5.3 in /home/dev/Generative AI using LangChain/venv/lib/python3.12/site-packages (from kubernetes>=28.1.0->chromadb>=1.0.9->langchain-chroma) (2.9.0.post0)\n",
            "Requirement already satisfied: google-auth>=1.0.1 in /home/dev/Generative AI using LangChain/venv/lib/python3.12/site-packages (from kubernetes>=28.1.0->chromadb>=1.0.9->langchain-chroma) (2.40.3)\n",
            "Requirement already satisfied: websocket-client!=0.40.0,!=0.41.*,!=0.42.*,>=0.32.0 in /home/dev/Generative AI using LangChain/venv/lib/python3.12/site-packages (from kubernetes>=28.1.0->chromadb>=1.0.9->langchain-chroma) (1.8.0)\n",
            "Requirement already satisfied: requests in /home/dev/Generative AI using LangChain/venv/lib/python3.12/site-packages (from kubernetes>=28.1.0->chromadb>=1.0.9->langchain-chroma) (2.32.4)\n",
            "Requirement already satisfied: requests-oauthlib in /home/dev/Generative AI using LangChain/venv/lib/python3.12/site-packages (from kubernetes>=28.1.0->chromadb>=1.0.9->langchain-chroma) (2.0.0)\n",
            "Requirement already satisfied: oauthlib>=3.2.2 in /home/dev/Generative AI using LangChain/venv/lib/python3.12/site-packages (from kubernetes>=28.1.0->chromadb>=1.0.9->langchain-chroma) (3.3.1)\n",
            "Requirement already satisfied: urllib3>=1.24.2 in /home/dev/Generative AI using LangChain/venv/lib/python3.12/site-packages (from kubernetes>=28.1.0->chromadb>=1.0.9->langchain-chroma) (2.5.0)\n",
            "Requirement already satisfied: durationpy>=0.7 in /home/dev/Generative AI using LangChain/venv/lib/python3.12/site-packages (from kubernetes>=28.1.0->chromadb>=1.0.9->langchain-chroma) (0.10)\n",
            "Requirement already satisfied: requests-toolbelt>=1.0.0 in /home/dev/Generative AI using LangChain/venv/lib/python3.12/site-packages (from langsmith>=0.3.45->langchain-core>=0.3.70->langchain-chroma) (1.0.0)\n",
            "Requirement already satisfied: zstandard>=0.23.0 in /home/dev/Generative AI using LangChain/venv/lib/python3.12/site-packages (from langsmith>=0.3.45->langchain-core>=0.3.70->langchain-chroma) (0.23.0)\n",
            "Requirement already satisfied: coloredlogs in /home/dev/Generative AI using LangChain/venv/lib/python3.12/site-packages (from onnxruntime>=1.14.1->chromadb>=1.0.9->langchain-chroma) (15.0.1)\n",
            "Requirement already satisfied: flatbuffers in /home/dev/Generative AI using LangChain/venv/lib/python3.12/site-packages (from onnxruntime>=1.14.1->chromadb>=1.0.9->langchain-chroma) (25.2.10)\n",
            "Requirement already satisfied: protobuf in /home/dev/Generative AI using LangChain/venv/lib/python3.12/site-packages (from onnxruntime>=1.14.1->chromadb>=1.0.9->langchain-chroma) (5.29.5)\n",
            "Requirement already satisfied: sympy in /home/dev/Generative AI using LangChain/venv/lib/python3.12/site-packages (from onnxruntime>=1.14.1->chromadb>=1.0.9->langchain-chroma) (1.14.0)\n",
            "Requirement already satisfied: importlib-metadata<8.8.0,>=6.0 in /home/dev/Generative AI using LangChain/venv/lib/python3.12/site-packages (from opentelemetry-api>=1.2.0->chromadb>=1.0.9->langchain-chroma) (8.7.0)\n",
            "Requirement already satisfied: googleapis-common-protos~=1.57 in /home/dev/Generative AI using LangChain/venv/lib/python3.12/site-packages (from opentelemetry-exporter-otlp-proto-grpc>=1.2.0->chromadb>=1.0.9->langchain-chroma) (1.70.0)\n",
            "Requirement already satisfied: opentelemetry-exporter-otlp-proto-common==1.36.0 in /home/dev/Generative AI using LangChain/venv/lib/python3.12/site-packages (from opentelemetry-exporter-otlp-proto-grpc>=1.2.0->chromadb>=1.0.9->langchain-chroma) (1.36.0)\n",
            "Requirement already satisfied: opentelemetry-proto==1.36.0 in /home/dev/Generative AI using LangChain/venv/lib/python3.12/site-packages (from opentelemetry-exporter-otlp-proto-grpc>=1.2.0->chromadb>=1.0.9->langchain-chroma) (1.36.0)\n",
            "Requirement already satisfied: opentelemetry-semantic-conventions==0.57b0 in /home/dev/Generative AI using LangChain/venv/lib/python3.12/site-packages (from opentelemetry-sdk>=1.2.0->chromadb>=1.0.9->langchain-chroma) (0.57b0)\n",
            "Requirement already satisfied: backoff>=1.10.0 in /home/dev/Generative AI using LangChain/venv/lib/python3.12/site-packages (from posthog<6.0.0,>=2.4.0->chromadb>=1.0.9->langchain-chroma) (2.2.1)\n",
            "Requirement already satisfied: distro>=1.5.0 in /home/dev/Generative AI using LangChain/venv/lib/python3.12/site-packages (from posthog<6.0.0,>=2.4.0->chromadb>=1.0.9->langchain-chroma) (1.9.0)\n",
            "Requirement already satisfied: annotated-types>=0.6.0 in /home/dev/Generative AI using LangChain/venv/lib/python3.12/site-packages (from pydantic>=1.9->chromadb>=1.0.9->langchain-chroma) (0.7.0)\n",
            "Requirement already satisfied: pydantic-core==2.33.2 in /home/dev/Generative AI using LangChain/venv/lib/python3.12/site-packages (from pydantic>=1.9->chromadb>=1.0.9->langchain-chroma) (2.33.2)\n",
            "Requirement already satisfied: typing-inspection>=0.4.0 in /home/dev/Generative AI using LangChain/venv/lib/python3.12/site-packages (from pydantic>=1.9->chromadb>=1.0.9->langchain-chroma) (0.4.1)\n",
            "Requirement already satisfied: markdown-it-py>=2.2.0 in /home/dev/Generative AI using LangChain/venv/lib/python3.12/site-packages (from rich>=10.11.0->chromadb>=1.0.9->langchain-chroma) (4.0.0)\n",
            "Requirement already satisfied: pygments<3.0.0,>=2.13.0 in /home/dev/Generative AI using LangChain/venv/lib/python3.12/site-packages (from rich>=10.11.0->chromadb>=1.0.9->langchain-chroma) (2.19.2)\n",
            "Requirement already satisfied: huggingface-hub<1.0,>=0.16.4 in /home/dev/Generative AI using LangChain/venv/lib/python3.12/site-packages (from tokenizers>=0.13.2->chromadb>=1.0.9->langchain-chroma) (0.34.4)\n",
            "Requirement already satisfied: click>=8.0.0 in /home/dev/Generative AI using LangChain/venv/lib/python3.12/site-packages (from typer>=0.9.0->chromadb>=1.0.9->langchain-chroma) (8.2.1)\n",
            "Requirement already satisfied: shellingham>=1.3.0 in /home/dev/Generative AI using LangChain/venv/lib/python3.12/site-packages (from typer>=0.9.0->chromadb>=1.0.9->langchain-chroma) (1.5.4)\n",
            "Requirement already satisfied: httptools>=0.6.3 in /home/dev/Generative AI using LangChain/venv/lib/python3.12/site-packages (from uvicorn[standard]>=0.18.3->chromadb>=1.0.9->langchain-chroma) (0.6.4)\n",
            "Requirement already satisfied: python-dotenv>=0.13 in /home/dev/Generative AI using LangChain/venv/lib/python3.12/site-packages (from uvicorn[standard]>=0.18.3->chromadb>=1.0.9->langchain-chroma) (1.1.1)\n",
            "Requirement already satisfied: uvloop>=0.15.1 in /home/dev/Generative AI using LangChain/venv/lib/python3.12/site-packages (from uvicorn[standard]>=0.18.3->chromadb>=1.0.9->langchain-chroma) (0.21.0)\n",
            "Requirement already satisfied: watchfiles>=0.13 in /home/dev/Generative AI using LangChain/venv/lib/python3.12/site-packages (from uvicorn[standard]>=0.18.3->chromadb>=1.0.9->langchain-chroma) (1.1.0)\n",
            "Requirement already satisfied: websockets>=10.4 in /home/dev/Generative AI using LangChain/venv/lib/python3.12/site-packages (from uvicorn[standard]>=0.18.3->chromadb>=1.0.9->langchain-chroma) (15.0.1)\n",
            "Requirement already satisfied: cachetools<6.0,>=2.0.0 in /home/dev/Generative AI using LangChain/venv/lib/python3.12/site-packages (from google-auth>=1.0.1->kubernetes>=28.1.0->chromadb>=1.0.9->langchain-chroma) (5.5.2)\n",
            "Requirement already satisfied: pyasn1-modules>=0.2.1 in /home/dev/Generative AI using LangChain/venv/lib/python3.12/site-packages (from google-auth>=1.0.1->kubernetes>=28.1.0->chromadb>=1.0.9->langchain-chroma) (0.4.2)\n",
            "Requirement already satisfied: rsa<5,>=3.1.4 in /home/dev/Generative AI using LangChain/venv/lib/python3.12/site-packages (from google-auth>=1.0.1->kubernetes>=28.1.0->chromadb>=1.0.9->langchain-chroma) (4.9.1)\n",
            "Requirement already satisfied: filelock in /home/dev/Generative AI using LangChain/venv/lib/python3.12/site-packages (from huggingface-hub<1.0,>=0.16.4->tokenizers>=0.13.2->chromadb>=1.0.9->langchain-chroma) (3.19.1)\n",
            "Requirement already satisfied: fsspec>=2023.5.0 in /home/dev/Generative AI using LangChain/venv/lib/python3.12/site-packages (from huggingface-hub<1.0,>=0.16.4->tokenizers>=0.13.2->chromadb>=1.0.9->langchain-chroma) (2025.7.0)\n",
            "Requirement already satisfied: hf-xet<2.0.0,>=1.1.3 in /home/dev/Generative AI using LangChain/venv/lib/python3.12/site-packages (from huggingface-hub<1.0,>=0.16.4->tokenizers>=0.13.2->chromadb>=1.0.9->langchain-chroma) (1.1.7)\n",
            "Requirement already satisfied: zipp>=3.20 in /home/dev/Generative AI using LangChain/venv/lib/python3.12/site-packages (from importlib-metadata<8.8.0,>=6.0->opentelemetry-api>=1.2.0->chromadb>=1.0.9->langchain-chroma) (3.23.0)\n",
            "Requirement already satisfied: mdurl~=0.1 in /home/dev/Generative AI using LangChain/venv/lib/python3.12/site-packages (from markdown-it-py>=2.2.0->rich>=10.11.0->chromadb>=1.0.9->langchain-chroma) (0.1.2)\n",
            "Requirement already satisfied: charset_normalizer<4,>=2 in /home/dev/Generative AI using LangChain/venv/lib/python3.12/site-packages (from requests->kubernetes>=28.1.0->chromadb>=1.0.9->langchain-chroma) (3.4.3)\n",
            "Requirement already satisfied: sniffio>=1.1 in /home/dev/Generative AI using LangChain/venv/lib/python3.12/site-packages (from anyio->httpx>=0.27.0->chromadb>=1.0.9->langchain-chroma) (1.3.1)\n",
            "Requirement already satisfied: humanfriendly>=9.1 in /home/dev/Generative AI using LangChain/venv/lib/python3.12/site-packages (from coloredlogs->onnxruntime>=1.14.1->chromadb>=1.0.9->langchain-chroma) (10.0)\n",
            "Requirement already satisfied: mpmath<1.4,>=1.1.0 in /home/dev/Generative AI using LangChain/venv/lib/python3.12/site-packages (from sympy->onnxruntime>=1.14.1->chromadb>=1.0.9->langchain-chroma) (1.3.0)\n",
            "Requirement already satisfied: pyasn1<0.7.0,>=0.6.1 in /home/dev/Generative AI using LangChain/venv/lib/python3.12/site-packages (from pyasn1-modules>=0.2.1->google-auth>=1.0.1->kubernetes>=28.1.0->chromadb>=1.0.9->langchain-chroma) (0.6.1)\n",
            "\n",
            "\u001b[1m[\u001b[0m\u001b[34;49mnotice\u001b[0m\u001b[1;39;49m]\u001b[0m\u001b[39;49m A new release of pip is available: \u001b[0m\u001b[31;49m24.0\u001b[0m\u001b[39;49m -> \u001b[0m\u001b[32;49m25.2\u001b[0m\n",
            "\u001b[1m[\u001b[0m\u001b[34;49mnotice\u001b[0m\u001b[1;39;49m]\u001b[0m\u001b[39;49m To update, run: \u001b[0m\u001b[32;49mpip install --upgrade pip\u001b[0m\n"
          ]
        }
      ],
      "source": [
        "!pip install langchain chromadb openai tiktoken pypdf langchain_openai langchain-community\n",
        "!pip install -U langchain-chroma"
      ]
    },
    {
      "cell_type": "code",
      "execution_count": 61,
      "metadata": {
        "id": "1YGuU6npaIFx"
      },
      "outputs": [],
      "source": [
        "from langchain_openai import OpenAIEmbeddings\n",
        "# from langchain.vectorstores import Chroma  # deprecated\n",
        "from langchain_chroma import Chroma  # ✅ new import\n"
      ]
    },
    {
      "cell_type": "code",
      "execution_count": 62,
      "metadata": {
        "id": "FpqDxoo-28TT"
      },
      "outputs": [],
      "source": [
        "from langchain.schema import Document\n",
        "\n",
        "# Create LangChain documents for IPL players\n",
        "\n",
        "doc1 = Document(\n",
        "        page_content=\"Virat Kohli is one of the most successful and consistent batsmen in IPL history. Known for his aggressive batting style and fitness, he has led the Royal Challengers Bangalore in multiple seasons.\",\n",
        "        metadata={\"team\": \"Royal Challengers Bangalore\"}\n",
        "    )\n",
        "doc2 = Document(\n",
        "        page_content=\"Rohit Sharma is the most successful captain in IPL history, leading Mumbai Indians to five titles. He's known for his calm demeanor and ability to play big innings under pressure.\",\n",
        "        metadata={\"team\": \"Mumbai Indians\"}\n",
        "    )\n",
        "doc3 = Document(\n",
        "        page_content=\"MS Dhoni, famously known as Captain Cool, has led Chennai Super Kings to multiple IPL titles. His finishing skills, wicketkeeping, and leadership are legendary.\",\n",
        "        metadata={\"team\": \"Chennai Super Kings\"}\n",
        "    )\n",
        "doc4 = Document(\n",
        "        page_content=\"Jasprit Bumrah is considered one of the best fast bowlers in T20 cricket. Playing for Mumbai Indians, he is known for his yorkers and death-over expertise.\",\n",
        "        metadata={\"team\": \"Mumbai Indians\"}\n",
        "    )\n",
        "doc5 = Document(\n",
        "        page_content=\"Ravindra Jadeja is a dynamic all-rounder who contributes with both bat and ball. Representing Chennai Super Kings, his quick fielding and match-winning performances make him a key player.\",\n",
        "        metadata={\"team\": \"Chennai Super Kings\"}\n",
        "    )\n"
      ]
    },
    {
      "cell_type": "code",
      "execution_count": 63,
      "metadata": {
        "id": "8gHb9o9Y3lfL"
      },
      "outputs": [],
      "source": [
        "docs = [doc1, doc2, doc3, doc4, doc5]"
      ]
    },
    {
      "cell_type": "code",
      "execution_count": 64,
      "metadata": {
        "id": "rIKW6J91c2Gw"
      },
      "outputs": [],
      "source": [
        "vector_store = Chroma(\n",
        "    embedding_function=OpenAIEmbeddings(),\n",
        "    persist_directory='chroma_storage',\n",
        "    collection_name='sample'\n",
        ")"
      ]
    },
    {
      "cell_type": "code",
      "execution_count": 65,
      "metadata": {
        "colab": {
          "base_uri": "https://localhost:8080/"
        },
        "id": "HY1WWRs3gLua",
        "outputId": "62b8a0fb-e673-4dc6-d24a-bc2748ac9c3d"
      },
      "outputs": [
        {
          "data": {
            "text/plain": [
              "['e45bae53-8ad4-4bae-a265-9e7c021511f7',\n",
              " '0fe0526b-f7e7-4e70-bd0a-ebe4b0e32d90',\n",
              " 'f25c84bd-2a5b-4e69-a0af-10ec12df669c',\n",
              " '40451091-ce22-4c3c-a488-2112791de3c7',\n",
              " 'e9a0c726-9707-467a-8e8f-d7984a0da405']"
            ]
          },
          "execution_count": 65,
          "metadata": {},
          "output_type": "execute_result"
        }
      ],
      "source": [
        "# add documents\n",
        "vector_store.add_documents(docs)"
      ]
    },
    {
      "cell_type": "code",
      "execution_count": 66,
      "metadata": {
        "colab": {
          "base_uri": "https://localhost:8080/"
        },
        "id": "nG7XjDXwg0JZ",
        "outputId": "630b5a14-f0f4-4914-98ab-1dd4851a392f"
      },
      "outputs": [
        {
          "data": {
            "text/plain": [
              "{'ids': ['e45bae53-8ad4-4bae-a265-9e7c021511f7',\n",
              "  '0fe0526b-f7e7-4e70-bd0a-ebe4b0e32d90',\n",
              "  'f25c84bd-2a5b-4e69-a0af-10ec12df669c',\n",
              "  '40451091-ce22-4c3c-a488-2112791de3c7',\n",
              "  'e9a0c726-9707-467a-8e8f-d7984a0da405'],\n",
              " 'embeddings': array([[-0.00210453, -0.00214285,  0.0268    , ..., -0.01707893,\n",
              "         -0.00366616,  0.01357884],\n",
              "        [-0.00268021, -0.00010323,  0.02815653, ..., -0.01501936,\n",
              "          0.00590092, -0.01164922],\n",
              "        [ 0.00092799, -0.00476   ,  0.0124662 , ..., -0.01731381,\n",
              "          0.00075886,  0.00296567],\n",
              "        [-0.02714536,  0.00885395,  0.02699314, ..., -0.02592762,\n",
              "          0.00900617, -0.01999116],\n",
              "        [-0.01810451,  0.01281202,  0.0347942 , ..., -0.03034012,\n",
              "         -0.00595078,  0.00521716]], shape=(5, 1536)),\n",
              " 'documents': ['Virat Kohli is one of the most successful and consistent batsmen in IPL history. Known for his aggressive batting style and fitness, he has led the Royal Challengers Bangalore in multiple seasons.',\n",
              "  \"Rohit Sharma is the most successful captain in IPL history, leading Mumbai Indians to five titles. He's known for his calm demeanor and ability to play big innings under pressure.\",\n",
              "  'MS Dhoni, famously known as Captain Cool, has led Chennai Super Kings to multiple IPL titles. His finishing skills, wicketkeeping, and leadership are legendary.',\n",
              "  'Jasprit Bumrah is considered one of the best fast bowlers in T20 cricket. Playing for Mumbai Indians, he is known for his yorkers and death-over expertise.',\n",
              "  'Ravindra Jadeja is a dynamic all-rounder who contributes with both bat and ball. Representing Chennai Super Kings, his quick fielding and match-winning performances make him a key player.'],\n",
              " 'uris': None,\n",
              " 'included': ['embeddings', 'documents', 'metadatas'],\n",
              " 'data': None,\n",
              " 'metadatas': [{'team': 'Royal Challengers Bangalore'},\n",
              "  {'team': 'Mumbai Indians'},\n",
              "  {'team': 'Chennai Super Kings'},\n",
              "  {'team': 'Mumbai Indians'},\n",
              "  {'team': 'Chennai Super Kings'}]}"
            ]
          },
          "execution_count": 66,
          "metadata": {},
          "output_type": "execute_result"
        }
      ],
      "source": [
        "# view documents\n",
        "vector_store.get(include=['embeddings','documents', 'metadatas'])"
      ]
    },
    {
      "cell_type": "code",
      "execution_count": 67,
      "metadata": {
        "colab": {
          "base_uri": "https://localhost:8080/"
        },
        "id": "LU-W9_9Jg3l3",
        "outputId": "91c8d652-5fd4-4408-8a52-f4c7578b58c9"
      },
      "outputs": [
        {
          "data": {
            "text/plain": [
              "[Document(id='40451091-ce22-4c3c-a488-2112791de3c7', metadata={'team': 'Mumbai Indians'}, page_content='Jasprit Bumrah is considered one of the best fast bowlers in T20 cricket. Playing for Mumbai Indians, he is known for his yorkers and death-over expertise.'),\n",
              " Document(id='e9a0c726-9707-467a-8e8f-d7984a0da405', metadata={'team': 'Chennai Super Kings'}, page_content='Ravindra Jadeja is a dynamic all-rounder who contributes with both bat and ball. Representing Chennai Super Kings, his quick fielding and match-winning performances make him a key player.')]"
            ]
          },
          "execution_count": 67,
          "metadata": {},
          "output_type": "execute_result"
        }
      ],
      "source": [
        "# search documents\n",
        "vector_store.similarity_search(\n",
        "    query='Who among these are a bowler?',\n",
        "    k=2\n",
        ")"
      ]
    },
    {
      "cell_type": "code",
      "execution_count": 68,
      "metadata": {
        "colab": {
          "base_uri": "https://localhost:8080/"
        },
        "id": "fRVVrXeag_MI",
        "outputId": "52907a05-008e-4b7b-ce63-a8dcd4a30b27"
      },
      "outputs": [
        {
          "data": {
            "text/plain": [
              "[(Document(id='40451091-ce22-4c3c-a488-2112791de3c7', metadata={'team': 'Mumbai Indians'}, page_content='Jasprit Bumrah is considered one of the best fast bowlers in T20 cricket. Playing for Mumbai Indians, he is known for his yorkers and death-over expertise.'),\n",
              "  0.35445845127105713),\n",
              " (Document(id='e9a0c726-9707-467a-8e8f-d7984a0da405', metadata={'team': 'Chennai Super Kings'}, page_content='Ravindra Jadeja is a dynamic all-rounder who contributes with both bat and ball. Representing Chennai Super Kings, his quick fielding and match-winning performances make him a key player.'),\n",
              "  0.4085893929004669)]"
            ]
          },
          "execution_count": 68,
          "metadata": {},
          "output_type": "execute_result"
        }
      ],
      "source": [
        "# search with similarity score\n",
        "vector_store.similarity_search_with_score(\n",
        "    query='Who among these are a bowler?',\n",
        "    k=2\n",
        ")"
      ]
    },
    {
      "cell_type": "code",
      "execution_count": 69,
      "metadata": {
        "colab": {
          "base_uri": "https://localhost:8080/"
        },
        "id": "NS6pINjhjldB",
        "outputId": "f1e3a58a-a1c8-4dd5-8340-2003d0a6fdbd"
      },
      "outputs": [
        {
          "data": {
            "text/plain": [
              "[(Document(id='f25c84bd-2a5b-4e69-a0af-10ec12df669c', metadata={'team': 'Chennai Super Kings'}, page_content='MS Dhoni, famously known as Captain Cool, has led Chennai Super Kings to multiple IPL titles. His finishing skills, wicketkeeping, and leadership are legendary.'),\n",
              "  0.6488258242607117),\n",
              " (Document(id='e9a0c726-9707-467a-8e8f-d7984a0da405', metadata={'team': 'Chennai Super Kings'}, page_content='Ravindra Jadeja is a dynamic all-rounder who contributes with both bat and ball. Representing Chennai Super Kings, his quick fielding and match-winning performances make him a key player.'),\n",
              "  0.6566494703292847)]"
            ]
          },
          "execution_count": 69,
          "metadata": {},
          "output_type": "execute_result"
        }
      ],
      "source": [
        "# meta-data filtering\n",
        "vector_store.similarity_search_with_score(\n",
        "    query=\"\",\n",
        "    filter={\"team\": \"Chennai Super Kings\"}\n",
        ")"
      ]
    },
    {
      "cell_type": "code",
      "execution_count": 70,
      "metadata": {
        "id": "5EXWk0T26qat"
      },
      "outputs": [],
      "source": [
        "# update documents\n",
        "updated_doc1 = Document(\n",
        "    page_content=\"Virat Kohli, the former captain of Royal Challengers Bangalore (RCB), is renowned for his aggressive leadership and consistent batting performances. He holds the record for the most runs in IPL history, including multiple centuries in a single season. Despite RCB not winning an IPL title under his captaincy, Kohli's passion and fitness set a benchmark for the league. His ability to chase targets and anchor innings has made him one of the most dependable players in T20 cricket.\",\n",
        "    metadata={\"team\": \"Royal Challengers Bangalore\"}\n",
        ")\n",
        "\n",
        "vector_store.update_document(document_id='09a39dc6-3ba6-4ea7-927e-fdda591da5e4', document=updated_doc1)\n"
      ]
    },
    {
      "cell_type": "code",
      "execution_count": 71,
      "metadata": {
        "colab": {
          "base_uri": "https://localhost:8080/"
        },
        "id": "vkB9Yd_O7oEl",
        "outputId": "99a61fb2-d5c3-4a62-bcd8-84e35a5fac97"
      },
      "outputs": [
        {
          "data": {
            "text/plain": [
              "{'ids': ['e45bae53-8ad4-4bae-a265-9e7c021511f7',\n",
              "  '0fe0526b-f7e7-4e70-bd0a-ebe4b0e32d90',\n",
              "  'f25c84bd-2a5b-4e69-a0af-10ec12df669c',\n",
              "  '40451091-ce22-4c3c-a488-2112791de3c7',\n",
              "  'e9a0c726-9707-467a-8e8f-d7984a0da405'],\n",
              " 'embeddings': array([[-0.00210453, -0.00214285,  0.0268    , ..., -0.01707893,\n",
              "         -0.00366616,  0.01357884],\n",
              "        [-0.00268021, -0.00010323,  0.02815653, ..., -0.01501936,\n",
              "          0.00590092, -0.01164922],\n",
              "        [ 0.00092799, -0.00476   ,  0.0124662 , ..., -0.01731381,\n",
              "          0.00075886,  0.00296567],\n",
              "        [-0.02714536,  0.00885395,  0.02699314, ..., -0.02592762,\n",
              "          0.00900617, -0.01999116],\n",
              "        [-0.01810451,  0.01281202,  0.0347942 , ..., -0.03034012,\n",
              "         -0.00595078,  0.00521716]], shape=(5, 1536)),\n",
              " 'documents': ['Virat Kohli is one of the most successful and consistent batsmen in IPL history. Known for his aggressive batting style and fitness, he has led the Royal Challengers Bangalore in multiple seasons.',\n",
              "  \"Rohit Sharma is the most successful captain in IPL history, leading Mumbai Indians to five titles. He's known for his calm demeanor and ability to play big innings under pressure.\",\n",
              "  'MS Dhoni, famously known as Captain Cool, has led Chennai Super Kings to multiple IPL titles. His finishing skills, wicketkeeping, and leadership are legendary.',\n",
              "  'Jasprit Bumrah is considered one of the best fast bowlers in T20 cricket. Playing for Mumbai Indians, he is known for his yorkers and death-over expertise.',\n",
              "  'Ravindra Jadeja is a dynamic all-rounder who contributes with both bat and ball. Representing Chennai Super Kings, his quick fielding and match-winning performances make him a key player.'],\n",
              " 'uris': None,\n",
              " 'included': ['embeddings', 'documents', 'metadatas'],\n",
              " 'data': None,\n",
              " 'metadatas': [{'team': 'Royal Challengers Bangalore'},\n",
              "  {'team': 'Mumbai Indians'},\n",
              "  {'team': 'Chennai Super Kings'},\n",
              "  {'team': 'Mumbai Indians'},\n",
              "  {'team': 'Chennai Super Kings'}]}"
            ]
          },
          "execution_count": 71,
          "metadata": {},
          "output_type": "execute_result"
        }
      ],
      "source": [
        "# view documents\n",
        "vector_store.get(include=['embeddings','documents', 'metadatas'])"
      ]
    },
    {
      "cell_type": "code",
      "execution_count": 72,
      "metadata": {
        "id": "JfP7Gkgc7r4A"
      },
      "outputs": [],
      "source": [
        "# delete document\n",
        "vector_store.delete(ids=['09a39dc6-3ba6-4ea7-927e-fdda591da5e4'])"
      ]
    },
    {
      "cell_type": "code",
      "execution_count": 73,
      "metadata": {
        "colab": {
          "base_uri": "https://localhost:8080/"
        },
        "id": "Z8kVJ9UX76tG",
        "outputId": "a145b3bf-530b-403a-fc2c-d02e678ae8cc"
      },
      "outputs": [
        {
          "data": {
            "text/plain": [
              "{'ids': ['e45bae53-8ad4-4bae-a265-9e7c021511f7',\n",
              "  '0fe0526b-f7e7-4e70-bd0a-ebe4b0e32d90',\n",
              "  'f25c84bd-2a5b-4e69-a0af-10ec12df669c',\n",
              "  '40451091-ce22-4c3c-a488-2112791de3c7',\n",
              "  'e9a0c726-9707-467a-8e8f-d7984a0da405'],\n",
              " 'embeddings': array([[-0.00210453, -0.00214285,  0.0268    , ..., -0.01707893,\n",
              "         -0.00366616,  0.01357884],\n",
              "        [-0.00268021, -0.00010323,  0.02815653, ..., -0.01501936,\n",
              "          0.00590092, -0.01164922],\n",
              "        [ 0.00092799, -0.00476   ,  0.0124662 , ..., -0.01731381,\n",
              "          0.00075886,  0.00296567],\n",
              "        [-0.02714536,  0.00885395,  0.02699314, ..., -0.02592762,\n",
              "          0.00900617, -0.01999116],\n",
              "        [-0.01810451,  0.01281202,  0.0347942 , ..., -0.03034012,\n",
              "         -0.00595078,  0.00521716]], shape=(5, 1536)),\n",
              " 'documents': ['Virat Kohli is one of the most successful and consistent batsmen in IPL history. Known for his aggressive batting style and fitness, he has led the Royal Challengers Bangalore in multiple seasons.',\n",
              "  \"Rohit Sharma is the most successful captain in IPL history, leading Mumbai Indians to five titles. He's known for his calm demeanor and ability to play big innings under pressure.\",\n",
              "  'MS Dhoni, famously known as Captain Cool, has led Chennai Super Kings to multiple IPL titles. His finishing skills, wicketkeeping, and leadership are legendary.',\n",
              "  'Jasprit Bumrah is considered one of the best fast bowlers in T20 cricket. Playing for Mumbai Indians, he is known for his yorkers and death-over expertise.',\n",
              "  'Ravindra Jadeja is a dynamic all-rounder who contributes with both bat and ball. Representing Chennai Super Kings, his quick fielding and match-winning performances make him a key player.'],\n",
              " 'uris': None,\n",
              " 'included': ['embeddings', 'documents', 'metadatas'],\n",
              " 'data': None,\n",
              " 'metadatas': [{'team': 'Royal Challengers Bangalore'},\n",
              "  {'team': 'Mumbai Indians'},\n",
              "  {'team': 'Chennai Super Kings'},\n",
              "  {'team': 'Mumbai Indians'},\n",
              "  {'team': 'Chennai Super Kings'}]}"
            ]
          },
          "execution_count": 73,
          "metadata": {},
          "output_type": "execute_result"
        }
      ],
      "source": [
        "# view documents\n",
        "vector_store.get(include=['embeddings','documents', 'metadatas'])"
      ]
    },
    {
      "cell_type": "code",
      "execution_count": null,
      "metadata": {
        "id": "Hg--cFdi79CV"
      },
      "outputs": [],
      "source": []
    }
  ],
  "metadata": {
    "colab": {
      "provenance": []
    },
    "kernelspec": {
      "display_name": "venv",
      "language": "python",
      "name": "python3"
    },
    "language_info": {
      "name": "python",
      "version": "3.12.3"
    }
  },
  "nbformat": 4,
  "nbformat_minor": 0
}
